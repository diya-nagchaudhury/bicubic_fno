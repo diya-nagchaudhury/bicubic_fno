{
 "cells": [
  {
   "cell_type": "code",
   "execution_count": 10,
   "id": "8b95de67-72d7-48c9-a3a3-609135190452",
   "metadata": {
    "tags": []
   },
   "outputs": [
    {
     "name": "stdout",
     "output_type": "stream",
     "text": [
      "Requirement already satisfied: mat73 in /home/diya/anaconda3/envs/res_inv/lib/python3.13/site-packages (0.65)\n",
      "Requirement already satisfied: h5py in /home/diya/anaconda3/envs/res_inv/lib/python3.13/site-packages (from mat73) (3.13.0)\n",
      "Requirement already satisfied: numpy in /home/diya/anaconda3/envs/res_inv/lib/python3.13/site-packages (from mat73) (2.2.2)\n"
     ]
    }
   ],
   "source": [
    "! pip install mat73"
   ]
  },
  {
   "cell_type": "code",
   "execution_count": 4,
   "id": "57b73116",
   "metadata": {},
   "outputs": [
    {
     "name": "stdout",
     "output_type": "stream",
     "text": [
      "/home/diya\n",
      "/home/diya/Projects/Fourier-Neural-Operator/src/data/datasets\n"
     ]
    }
   ],
   "source": [
    "import mat73\n",
    "import scipy\n",
    "import numpy as np\n",
    "\n",
    "pathToProject = '/home/diya/Projects/Fourier-Neural-Operator'\n",
    "\n",
    "%cd\n",
    "%cd $pathToProject/src/data/datasets"
   ]
  },
  {
   "cell_type": "code",
   "execution_count": 7,
   "id": "99dafc07-501d-41cc-b1b7-d9dbbf4bffff",
   "metadata": {
    "tags": []
   },
   "outputs": [
    {
     "name": "stdout",
     "output_type": "stream",
     "text": [
      "Dataset is not .mat version 7.3\n"
     ]
    }
   ],
   "source": [
    "try:\n",
    "    dataDict = mat73.loadmat('ns_data_test.mat')\n",
    "    try:\n",
    "        dataDict = scipy.io.loadmat('ns_data_test.mat')\n",
    "    except:\n",
    "        print('Dataset is .mat version 7.3')\n",
    "except:\n",
    "    print('Dataset is not .mat version 7.3')"
   ]
  },
  {
   "cell_type": "code",
   "execution_count": 9,
   "id": "aea33a5f-6d56-4a12-a633-1ead7835fa42",
   "metadata": {
    "tags": []
   },
   "outputs": [],
   "source": [
    "dataDict = scipy.io.loadmat('ns_data_test.mat')\n",
    "a, t, u = dataDict['a'], dataDict['t'], dataDict['u']\n",
    "np.save('ns_test', u)"
   ]
  },
  {
   "cell_type": "code",
   "execution_count": 11,
   "id": "c111949d",
   "metadata": {},
   "outputs": [
    {
     "name": "stdout",
     "output_type": "stream",
     "text": [
      "a shape: (10, 1024, 1024)\n",
      "t shape: (1, 50)\n",
      "u shape: (10, 1024, 1024, 50)\n",
      "a data type: float32\n",
      "t data type: float32\n",
      "u data type: float32\n"
     ]
    }
   ],
   "source": [
    "# print shapes \n",
    "\n",
    "print('a shape:', a.shape)\n",
    "print('t shape:', t.shape)\n",
    "print('u shape:', u.shape)\n",
    "\n",
    "# print data types\n",
    "print('a data type:', a.dtype)\n",
    "print('t data type:', t.dtype)\n",
    "print('u data type:', u.dtype)"
   ]
  },
  {
   "cell_type": "code",
   "execution_count": null,
   "id": "5d76c3f0",
   "metadata": {},
   "outputs": [],
   "source": []
  }
 ],
 "metadata": {
  "kernelspec": {
   "display_name": "res_inv",
   "language": "python",
   "name": "python3"
  },
  "language_info": {
   "codemirror_mode": {
    "name": "ipython",
    "version": 3
   },
   "file_extension": ".py",
   "mimetype": "text/x-python",
   "name": "python",
   "nbconvert_exporter": "python",
   "pygments_lexer": "ipython3",
   "version": "3.13.2"
  }
 },
 "nbformat": 4,
 "nbformat_minor": 5
}
